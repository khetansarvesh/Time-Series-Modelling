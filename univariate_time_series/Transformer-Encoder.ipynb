{
 "cells": [
  {
   "cell_type": "markdown",
   "metadata": {},
   "source": [
    "[![Open In Colab](https://colab.research.google.com/assets/colab-badge.svg)](https://colab.research.google.com/github/khetansarvesh/Time-Series-Modelling/blob/main/Transformer-Encoder.ipynb)"
   ]
  },
  {
   "cell_type": "markdown",
   "metadata": {
    "id": "_uSmEHjCn3lk"
   },
   "source": [
    "# M1 : Create self attention from scratch\n",
    "Currently working on this and trying to implement transformers encoder from scratch in pytorch, this is not yet functional code"
   ]
  },
  {
   "cell_type": "markdown",
   "metadata": {
    "id": "uiaCxaGGUgQt"
   },
   "source": [
    "### Multi-Head Attention\n",
    "This will be used for both self and cross multi head attention                                                      "
   ]
  },
  {
   "cell_type": "markdown",
   "metadata": {
    "id": "3twSbimFUgQq"
   },
   "source": [
    "Attention:                                                                                                                                                                                                                                                                               \n",
    "An attention function can be described as mapping a query and a set of key-value pairs to an output, where the query, keys, values, and output are all vectors.  The output is computed as a weighted sum of the values, where the weight assigned to each value is computed by a compatibility function of the query with the corresponding key.                                                                                                                                                                                                                                                                                           \n",
    "\n",
    "We call our particular attention \"Scaled Dot-Product Attention\".   The input consists of queries and keys of dimension $d_k$, and values of dimension $d_v$.  We compute the dot products of the query with all keys, divide each by $\\sqrt{d_k}$, and apply a softmax function to obtain the weights on the values.                                                                                                         \n",
    "<img width=\"220px\" src=\"ModalNet-19.png\">\n",
    "\n",
    "In practice, we compute the attention function on a set of queries simultaneously, packed together into a matrix $Q$.   The keys and values are also packed together into matrices $K$ and $V$.  We compute the matrix of outputs as:                      \n",
    "                                                                 \n",
    "$$                                                                         \n",
    "   \\mathrm{Attention}(Q, K, V) = \\mathrm{softmax}(\\frac{QK^T}{\\sqrt{d_k}})V               \n",
    "$$                                                                                                                                                                                                        \n",
    "                                                                                                                                                                     "
   ]
  },
  {
   "cell_type": "code",
   "execution_count": null,
   "metadata": {
    "id": "wlZ8zw9PUgQr"
   },
   "outputs": [],
   "source": [
    "# for implementing multi headed attention we will first have to implement attention and the we can make copies of this\n",
    "# to implement multi headed attention\n",
    "def attention(query, key, value, mask=None, dropout=0.0):\n",
    "    \"Compute 'Scaled Dot Product Attention'\"\n",
    "    d_k = query.size(-1)\n",
    "    scores = torch.matmul(query, key.transpose(-2, -1)) \\\n",
    "             / math.sqrt(d_k)\n",
    "    if mask is not None:\n",
    "        scores = scores.masked_fill(mask == 0, -1e9)\n",
    "    p_attn = F.softmax(scores, dim = -1)\n",
    "    # (Dropout described below)\n",
    "    p_attn = F.dropout(p_attn, p=dropout)\n",
    "    return torch.matmul(p_attn, value), p_attn"
   ]
  },
  {
   "cell_type": "markdown",
   "metadata": {
    "id": "AV7cIqbrUgQs"
   },
   "source": [
    "The two most commonly used attention functions are additive attention [(cite)](bahdanau2014neural), and dot-product (multiplicative) attention.  Dot-product attention is identical to our algorithm, except for the scaling factor of $\\frac{1}{\\sqrt{d_k}}$. Additive attention computes the compatibility function using a feed-forward network with a single hidden layer.  While the two are similar in theoretical complexity, dot-product attention is much faster and more space-efficient in practice, since it can be implemented using highly optimized matrix multiplication code.                                                                                             \n",
    "\n",
    "                                                                        \n",
    "While for small values of $d_k$ the two mechanisms perform similarly, additive attention outperforms dot product attention without scaling for larger values of $d_k$ [(cite)](DBLP:journals/corr/BritzGLL17). We suspect that for large values of $d_k$, the dot products grow large in magnitude, pushing the softmax function into regions where it has extremely small gradients  (To illustrate why the dot products get large, assume that the components of $q$ and $k$ are independent random variables with mean $0$ and variance $1$.  Then their dot product, $q \\cdot k = \\sum_{i=1}^{d_k} q_ik_i$, has mean $0$ and variance $d_k$.). To counteract this effect, we scale the dot products by $\\frac{1}{\\sqrt{d_k}}$.          "
   ]
  },
  {
   "cell_type": "markdown",
   "metadata": {
    "id": "R7d5UKVHjysI"
   },
   "source": [
    "                                                                                                                                                                                                                                                                                                                                                                     \n",
    "                                                                                                                                                                                                                                                                                                                                                                                                                                                                                          \n",
    "Instead of performing a single attention function with $d_{\\text{model}}$-dimensional keys, values and queries, we found it beneficial to linearly project the queries, keys and values $h$ times with different, learned linear projections to $d_k$, $d_k$ and $d_v$ dimensions, respectively.                                                                                                                                                                                                   \n",
    "On each of these projected versions of queries, keys and values we then perform the attention function in parallel, yielding $d_v$-dimensional output values. These are concatenated and once again projected, resulting in the final values:\n",
    "\n",
    "<img width=\"270px\" src=\"ModalNet-20.png\">\n",
    "                                                                                                                                                                                                                                                                                                                                                                                                                                                                                          \n",
    "Multi-head attention allows the model to jointly attend to information from different representation subspaces at different positions. With a single attention head, averaging inhibits this.                                                                                                                                                                                                                                                                                             \n",
    "    \n",
    "    \n",
    "   \n",
    "$$    \n",
    "\\mathrm{MultiHead}(Q, K, V) = \\mathrm{Concat}(\\mathrm{head_1}, ..., \\mathrm{head_h})W^O    \\\\                                           \n",
    "    \\text{where}~\\mathrm{head_i} = \\mathrm{Attention}(QW^Q_i, KW^K_i, VW^V_i)                                \n",
    "$$                                                                                                                                                                                                                                                                                                                                                                         \n",
    "                                                                                                                                                                                                                                                                                                                                                                                                                                                                                          \n",
    "Where the projections are parameter matrices $W^Q_i \\in \\mathbb{R}^{d_{\\text{model}} \\times d_k}$, $W^K_i \\in \\mathbb{R}^{d_{\\text{model}} \\times d_k}$, $W^V_i \\in \\mathbb{R}^{d_{\\text{model}} \\times d_v}$ and $W^O \\in \\mathbb{R}^{hd_v \\times d_{\\text{model}}}$.                                                                                                                                                                                                                                                        \n",
    "   \n",
    "\n",
    "   \n",
    "In this work we employ $h=8$ parallel attention layers, or heads. For each of these we use $d_k=d_v=d_{\\text{model}}/h=64$. Due to the reduced dimension of each head, the total computational cost is similar to that of single-head attention with full dimensionality.   "
   ]
  },
  {
   "cell_type": "code",
   "execution_count": null,
   "metadata": {
    "id": "_ea0UrEgUgQt"
   },
   "outputs": [],
   "source": [
    "class MultiHeadedAttention(nn.Module):\n",
    "    def __init__(self, h, d_model, dropout=0.1):\n",
    "        \"Take in model size and number of heads.\"\n",
    "        super(MultiHeadedAttention, self).__init__()\n",
    "        assert d_model % h == 0\n",
    "        # We assume d_v always equals d_k\n",
    "        self.d_k = d_model // h\n",
    "        self.h = h\n",
    "        self.p = dropout\n",
    "        self.linears = clones(nn.Linear(d_model, d_model), 4)\n",
    "        self.attn = None\n",
    "\n",
    "    def forward(self, query, key, value, mask=None):\n",
    "        \"Implements Figure 2\"\n",
    "        if mask is not None:\n",
    "            # Same mask applied to all h heads.\n",
    "            mask = mask.unsqueeze(1)\n",
    "        nbatches = query.size(0)\n",
    "\n",
    "        # 1) Do all the linear projections in batch from d_model => h x d_k\n",
    "        query, key, value = [l(x).view(nbatches, -1, self.h, self.d_k).transpose(1, 2)\n",
    "                             for l, x in zip(self.linears, (query, key, value))]\n",
    "\n",
    "        # 2) Apply attention on all the projected vectors in batch.\n",
    "        x, self.attn = attention(query, key, value, mask=mask, dropout=self.p)\n",
    "\n",
    "        # 3) \"Concat\" using a view and apply a final linear.\n",
    "        x = x.transpose(1, 2).contiguous().view(nbatches, -1, self.h * self.d_k)\n",
    "        return self.linears[-1](x)"
   ]
  },
  {
   "cell_type": "markdown",
   "metadata": {
    "id": "F_hw5TyCUgQ1"
   },
   "source": [
    "### Positional Encoding                                                                                      "
   ]
  },
  {
   "cell_type": "markdown",
   "metadata": {
    "id": "0QNsXqwEvb1b"
   },
   "source": [
    "                                       \n",
    "in order for the model to make use of the order of the sequence, we must inject some information about the relative or absolute position of the tokens in the sequence.  To this end, we add \"positional encodings\" to the input embeddings at the bottoms of the encoder and decoder stacks.  The positional encodings have the same dimension $d_{\\text{model}}$ as the embeddings, so that the two can be summed.   There are many choices of positional encodings, learned and fixed [(cite)](JonasFaceNet2017).\n",
    "\n",
    "In this work, we use sine and cosine functions of different frequencies:                                                                                                                                                                                                                                                                                                                                                                                                                                                                                                                                  \n",
    "$$                                                                                                                                                                                                                                                                                                                                                                                                                                                                            \n",
    "    PE_{(pos,2i)} = sin(pos / 10000^{2i/d_{\\text{model}}}) \\\\                                                                                                                                                                                                                                                                                                                                                                                                                                      \n",
    "    PE_{(pos,2i+1)} = cos(pos / 10000^{2i/d_{\\text{model}}})                                                                                                                                                                                                                                                                                                                                                                                                                                       \n",
    "$$                                                                                                                                                                                                                                                        \n",
    "where $pos$ is the position and $i$ is the dimension.  That is, each dimension of the positional encoding corresponds to a sinusoid.  The wavelengths form a geometric progression from $2\\pi$ to $10000 \\cdot 2\\pi$.  We chose this function because we hypothesized it would allow the model to easily learn to attend by relative positions, since for any fixed offset $k$, $PE_{pos+k}$ can be represented as a linear function of $PE_{pos}$.\n",
    "\n",
    "In addition, we apply dropout to the sums of the embeddings and the positional encodings in both the encoder and decoder stacks.  For the base model, we use a rate of $P_{drop}=0.1$.\n",
    "                                                                                                                                                                                                                                                    \n"
   ]
  },
  {
   "cell_type": "code",
   "execution_count": null,
   "metadata": {
    "id": "MVsjhp6uUgQ1"
   },
   "outputs": [],
   "source": [
    "\"Implement the PE function.\"\n",
    "\n",
    "class PositionalEncoding(nn.Module):\n",
    "    def __init__(self, d_model, dropout, max_len=5000):\n",
    "        super(PositionalEncoding, self).__init__()\n",
    "        self.dropout = nn.Dropout(p=dropout)\n",
    "\n",
    "        # Compute the positional encodings once in log space.\n",
    "        pe = torch.zeros(max_len, d_model)\n",
    "        position = torch.arange(0, max_len).unsqueeze(1)\n",
    "        div_term = torch.exp(torch.arange(0, d_model, 2) *\n",
    "                             -(math.log(10000.0) / d_model))\n",
    "        pe[:, 0::2] = torch.sin(position * div_term)\n",
    "        pe[:, 1::2] = torch.cos(position * div_term)\n",
    "        pe = pe.unsqueeze(0)\n",
    "        self.register_buffer('pe', pe)\n",
    "\n",
    "    def forward(self, x):\n",
    "        x = x + Variable(self.pe[:, :x.size(1)], requires_grad=False)\n",
    "        return self.dropout(x)"
   ]
  },
  {
   "cell_type": "code",
   "execution_count": null,
   "metadata": {
    "colab": {
     "base_uri": "https://localhost:8080/",
     "height": 321
    },
    "id": "qMsBRCuLUgQ3",
    "outputId": "0ba52f87-93d6-441b-b6c6-b724981758db"
   },
   "outputs": [
    {
     "data": {
      "image/png": "[encoded data removed]",
      "text/plain": [
       "<matplotlib.figure.Figure at 0x7f181c2412e8>"
      ]
     },
     "metadata": {
      "tags": []
     },
     "output_type": "display_data"
    }
   ],
   "source": [
    "# The positional encoding will add in a sine wave based on position.The frequency and offset of the wave is different for each dimension.\n",
    "plt.figure(figsize=(15, 5))\n",
    "pe = PositionalEncoding(20, 0)\n",
    "y = pe.forward(Variable(torch.zeros(1, 100, 20)))\n",
    "plt.plot(np.arange(100), y[0, :, 4:8].data.numpy())\n",
    "plt.legend([\"dim %d\"%p for p in [4,5,6,7]])\n",
    "None"
   ]
  },
  {
   "cell_type": "markdown",
   "metadata": {
    "id": "6HjtmgH1UgQ5"
   },
   "source": [
    "We also experimented with using learned positional embeddings [(cite)](JonasFaceNet2017) instead, and found that the two versions produced nearly identical results.  We chose the sinusoidal version because it may allow the model to extrapolate to sequence lengths longer than the ones encountered during training.    "
   ]
  },
  {
   "cell_type": "markdown",
   "metadata": {
    "id": "euyRXbaMUgQR"
   },
   "source": [
    "### Layer Norm  \n"
   ]
  },
  {
   "cell_type": "code",
   "execution_count": null,
   "metadata": {
    "id": "sEz9kLClUgQV"
   },
   "outputs": [],
   "source": [
    "class LayerNorm(nn.Module):\n",
    "    def __init__(self, features, eps=1e-6):\n",
    "        super(LayerNorm, self).__init__()\n",
    "        self.a_2 = nn.Parameter(torch.ones(features))\n",
    "        self.b_2 = nn.Parameter(torch.zeros(features))\n",
    "        self.eps = eps\n",
    "\n",
    "    def forward(self, x):\n",
    "        mean = x.mean(-1, keepdim=True)\n",
    "        std = x.std(-1, keepdim=True)\n",
    "        return self.a_2 * (x - mean) / (std + self.eps) + self.b_2"
   ]
  },
  {
   "cell_type": "markdown",
   "metadata": {
    "id": "nx4On5PCUgQY"
   },
   "source": [
    "That is, the output of each sub-layer is $\\mathrm{LayerNorm}(x + \\mathrm{Sublayer}(x))$, where $\\mathrm{Sublayer}(x)$ is the function implemented by the sub-layer itself.  We apply dropout [(cite)](srivastava2014dropout) to the output of each sub-layer, before it is added to the sub-layer input and normalized.  \n",
    "\n",
    "To facilitate these residual connections, all sub-layers in the model, as well as the embedding layers, produce outputs of dimension $d_{\\text{model}}=512$.  "
   ]
  },
  {
   "cell_type": "markdown",
   "metadata": {
    "id": "Okjbyti8kfQs"
   },
   "source": [
    "### Residual Connections"
   ]
  },
  {
   "cell_type": "code",
   "execution_count": null,
   "metadata": {
    "id": "zx9JBwAcUgQY"
   },
   "outputs": [],
   "source": [
    "class SublayerConnection(nn.Module):\n",
    "    \"\"\"\n",
    "    A residual connection followed by a layer norm.\n",
    "    Note for code simplicity we apply the norm first as opposed to last.\n",
    "    \"\"\"\n",
    "    def __init__(self, size, dropout):\n",
    "        super(SublayerConnection, self).__init__()\n",
    "        self.norm = LayerNorm(size)\n",
    "        self.dropout = nn.Dropout(dropout)\n",
    "\n",
    "    def forward(self, x, sublayer):\n",
    "        \"Apply residual connection to any sublayer function that maintains the same size.\"\n",
    "        return x + self.dropout(sublayer(self.norm(x)))"
   ]
  },
  {
   "cell_type": "markdown",
   "metadata": {
    "id": "gERLhK-FUgQw"
   },
   "source": [
    "### Position-wise Feed-Forward Networks                                                                                                                                \n"
   ]
  },
  {
   "cell_type": "markdown",
   "metadata": {
    "id": "MMtf17Dxw_qi"
   },
   "source": [
    "The dimensionality of input and output is $d_{\\text{model}}=512$, and the inner-layer has dimensionality $d_{ff}=2048$."
   ]
  },
  {
   "cell_type": "code",
   "execution_count": null,
   "metadata": {
    "id": "HuDPthO2UgQx"
   },
   "outputs": [],
   "source": [
    "# In addition to attention sublayers, we know that transformer encoder and transformer decoder both has a FFNN in its hidden layer which is applied to each position separately\n",
    "# Here we will define that as a 2 hidden layer architecture\n",
    "\n",
    "class PositionwiseFeedForward(nn.Module):\n",
    "  def __init__(self, d_model, d_ff, dropout=0.1):\n",
    "    super(PositionwiseFeedForward, self).__init__()\n",
    "    self.w_1 = nn.Linear(d_model, d_ff)\n",
    "    self.w_2 = nn.Linear(d_ff, d_model)\n",
    "    self.dropout = nn.Dropout(dropout)\n",
    "\n",
    "  def forward(self, x):\n",
    "    return self.w_2(self.dropout(F.relu(self.w_1(x))))"
   ]
  },
  {
   "cell_type": "markdown",
   "metadata": {
    "id": "8bTXEynYm5Na"
   },
   "source": [
    "### Transformer Encoder"
   ]
  },
  {
   "cell_type": "code",
   "execution_count": null,
   "metadata": {
    "id": "x1T54b6hlwqy"
   },
   "outputs": [],
   "source": [
    "# defining the transformer encoder which is made up of two sublayers , multi-headed self-attention layer and feed forward layer (defined below)\"\n",
    "class EncoderLayer(nn.Module):\n",
    "\n",
    "  def __init__(self, size, self_attn, feed_forward, dropout):\n",
    "    super(EncoderLayer, self).__init__()\n",
    "    self.self_attn = self_attn\n",
    "    self.feed_forward = feed_forward\n",
    "    self.sublayer = clones(SublayerConnection(size, dropout), 2)\n",
    "    self.size = size\n",
    "\n",
    "  def forward(self, x, mask):\n",
    "    x = self.sublayer[0](x, lambda x: self.self_attn(x, x, x, mask))\n",
    "    return self.sublayer[1](x, self.feed_forward)"
   ]
  },
  {
   "cell_type": "code",
   "execution_count": null,
   "metadata": {
    "id": "itC6rV_DmPKr"
   },
   "outputs": [],
   "source": [
    "# Defining the encoder i.e. multiple transformer encoders stacked togethere - we will stack N = 6\n",
    "class Encoder(nn.Module):\n",
    "    \"Core encoder is a stack of N layers\"\n",
    "    def __init__(self, layer, N):\n",
    "        super(Encoder, self).__init__()\n",
    "        self.layers = clones(layer, N)\n",
    "        self.norm = LayerNorm(layer.size)\n",
    "\n",
    "    def forward(self, x, mask):\n",
    "        \"Pass the input (and mask) through each layer in turn.\"\n",
    "        for layer in self.layers:\n",
    "            x = layer(x, mask)\n",
    "        return self.norm(x)"
   ]
  },
  {
   "cell_type": "code",
   "execution_count": null,
   "metadata": {
    "id": "ws5oHZumnXDN"
   },
   "outputs": [],
   "source": [
    "    c = copy.deepcopy\n",
    "    attn = MultiHeadedAttention(h, d_model, dropout)\n",
    "    ff = PositionwiseFeedForward(d_model, d_ff, dropout)\n",
    "    position = PositionalEncoding(d_model, dropout)\n",
    "    Encoder(EncoderLayer(d_model, c(attn), c(ff), dropout), N),\n"
   ]
  },
  {
   "cell_type": "markdown",
   "metadata": {
    "id": "tYmRJctW8dSk"
   },
   "source": [
    "# M2 : Using Pytorch Self Attention Layer"
   ]
  },
  {
   "cell_type": "code",
   "execution_count": null,
   "metadata": {
    "id": "Xj13c4asH248"
   },
   "outputs": [],
   "source": [
    "class MultiheadSelfAttentionBlock(nn.Module):\n",
    "\n",
    "    def __init__(self,\n",
    "                 embedding_dim:int=768, # Hidden size D from Table 1 for ViT-Base\n",
    "                 num_heads:int=12, # Heads from Table 1 for ViT-Base\n",
    "                 attn_dropout:float=0): # doesn't look like the paper uses any dropout in MSABlocks\n",
    "        super().__init__()\n",
    "\n",
    "        self.layer_norm = nn.LayerNorm(normalized_shape=embedding_dim)\n",
    "\n",
    "        self.multihead_attn = nn.MultiheadAttention(embed_dim=embedding_dim, # the embedding dimensions\n",
    "                                                    num_heads=num_heads, # number of attention heads\n",
    "                                                    dropout=attn_dropout, #wheather or not to use dropout\n",
    "                                                    batch_first=True) # does our batch dimension come first?\n",
    "\n",
    "    def forward(self, x):\n",
    "        x = self.layer_norm(x)\n",
    "        attn_output, _ = self.multihead_attn(query=x, # query embeddings\n",
    "                                             key=x, # key embeddings\n",
    "                                             value=x, # value embeddings\n",
    "                                             need_weights=False) # do we need the weights or just the layer outputs?\n",
    "        return attn_output"
   ]
  },
  {
   "cell_type": "code",
   "execution_count": null,
   "metadata": {
    "id": "THFBTCpB8jiW"
   },
   "outputs": [],
   "source": [
    "class MLPBlock(nn.Module):\n",
    "\n",
    "    def __init__(self,\n",
    "                 embedding_dim:int=768, # Hidden Size D from Table 1 for ViT-Base\n",
    "                 mlp_size:int=3072, # MLP size from Table 1 for ViT-Base\n",
    "                 dropout:float=0.1): # Dropout from Table 3 for ViT-Base\n",
    "        super().__init__()\n",
    "\n",
    "        # 3. Create the Norm layer (LN)\n",
    "        self.layer_norm = nn.LayerNorm(normalized_shape=embedding_dim)\n",
    "\n",
    "        # 4. Create the Multilayer perceptron (MLP) layer(s)\n",
    "        self.mlp = nn.Sequential(\n",
    "            nn.Linear(in_features=embedding_dim,out_features=mlp_size),\n",
    "            nn.GELU(), # \"The MLP contains two layers with a GELU non-linearity (section 3.1).\"\n",
    "            nn.Dropout(p=dropout),\n",
    "            nn.Linear(in_features=mlp_size, out_features=embedding_dim), # take back to embedding_dim\n",
    "            nn.Dropout(p=dropout) # \"Dropout, when used, is applied after every dense layer..\"\n",
    "        )\n",
    "\n",
    "    # 5. Create a forward() method to pass the data throguh the layers\n",
    "    def forward(self, x):\n",
    "        x = self.layer_norm(x)\n",
    "        x = self.mlp(x)\n",
    "        return x"
   ]
  },
  {
   "cell_type": "code",
   "execution_count": null,
   "metadata": {
    "id": "r0ZMxYYuH5S3"
   },
   "outputs": [],
   "source": [
    "class TransformerEncoderBlock(nn.Module):\n",
    "\n",
    "    def __init__(self,\n",
    "                 embedding_dim:int=768, # Hidden size D from Table 1 for ViT-Base\n",
    "                 num_heads:int=12, # Heads from Table 1 for ViT-Base\n",
    "                 mlp_size:int=3072, # MLP size from Table 1 for ViT-Base\n",
    "                 mlp_dropout:float=0.1, # Amount of dropout for dense layers from Table 3 for ViT-Base\n",
    "                 attn_dropout:float=0): # Amount of dropout for attention layers\n",
    "        super().__init__()\n",
    "        self.msa_block = MultiheadSelfAttentionBlock(embedding_dim=embedding_dim, num_heads=num_heads, attn_dropout=attn_dropout)\n",
    "        self.mlp_block =  MLPBlock(embedding_dim=embedding_dim, mlp_size=mlp_size, dropout=mlp_dropout)\n",
    "\n",
    "    def forward(self, x):\n",
    "        x =  self.msa_block(x) + x\n",
    "        x = self.mlp_block(x) + x\n",
    "        return x"
   ]
  },
  {
   "cell_type": "markdown",
   "metadata": {
    "id": "q4EQy_Hvn86q"
   },
   "source": [
    "# M3 : Using Pytorch Transformer Encoder Layer\n",
    "Pytorch has already done the above hard work for us and given us it form of a layers, simple one line code it is!!"
   ]
  },
  {
   "cell_type": "code",
   "execution_count": null,
   "metadata": {
    "id": "CEbdIEjcoBII"
   },
   "outputs": [],
   "source": [
    "transformer_encoder_layer = nn.TransformerEncoderLayer(d_model=768,\n",
    "                                                       nhead=12,\n",
    "                                                       dim_feedforward=3072,\n",
    "                                                       dropout=0.1,\n",
    "                                                       activation=\"gelu\",\n",
    "                                                       batch_first=True,\n",
    "                                                       norm_first=True)\n",
    "\n",
    "# now stacking the above transformer encoder layer 12 times\n",
    "transformer_encoder = nn.TransformerEncoder( encoder_layer=transformer_encoder_layer, num_layers=12)"
   ]
  },
  {
   "cell_type": "markdown",
   "metadata": {},
   "source": [
    "# M4"
   ]
  },
  {
   "cell_type": "code",
   "execution_count": null,
   "metadata": {},
   "outputs": [],
   "source": [
    "class Attention(nn.Module):\n",
    "\n",
    "\n",
    "   def __init__(self):\n",
    "       super().__init__()\n",
    "       self.n_heads = 12\n",
    "       self.hidden_size = 768\n",
    "       self.head_dim = 64\n",
    "\n",
    "\n",
    "       self.att_dim = self.n_heads * self.head_dim\n",
    "\n",
    "\n",
    "       # QKV projection for the input\n",
    "       self.qkv_proj = nn.Linear(self.hidden_size, 3 * self.att_dim, bias=True)\n",
    "       self.output_proj = nn.Sequential( nn.Linear(self.att_dim, self.hidden_size))\n",
    "\n",
    "\n",
    "   def forward(self, x):\n",
    "       #  Converting to Attention Dimension\n",
    "       ######################################################\n",
    "       # Batch Size x Number of Patches x Dimension\n",
    "       B, N = x.shape[:2]\n",
    "       # Projecting to 3*att_dim and then splitting to get q, k v(each of att_dim)\n",
    "       # qkv -> Batch Size x Number of Patches x (3* Attention Dimension)\n",
    "       # q(as well as k and v) -> Batch Size x Number of Patches x Attention Dimension\n",
    "       q, k, v = self.qkv_proj(x).split(self.att_dim, dim=-1)\n",
    "       # Batch Size x Number of Patches x Attention Dimension\n",
    "       # -> Batch Size x Number of Patches x (Heads * Head Dimension)\n",
    "       # -> Batch Size x Number of Patches x (Heads * Head Dimension)\n",
    "       # -> Batch Size x Heads x Number of Patches x Head Dimension\n",
    "       # -> B x H x N x Head Dimension\n",
    "       q = rearrange(q, 'b n (n_h h_dim) -> b n_h n h_dim', n_h=self.n_heads, h_dim=self.head_dim)\n",
    "       k = rearrange(k, 'b n (n_h h_dim) -> b n_h n h_dim', n_h=self.n_heads, h_dim=self.head_dim)\n",
    "       v = rearrange(v, 'b n (n_h h_dim) -> b n_h n h_dim', n_h=self.n_heads, h_dim=self.head_dim)\n",
    "       #########################################################\n",
    "\n",
    "\n",
    "       # Compute Attention Weights\n",
    "       #########################################################\n",
    "       # B x H x N x Head Dimension @ B x H x Head Dimension x N\n",
    "       # -> B x H x N x N\n",
    "       att = torch.matmul(q, k.transpose(-2, -1)) * (self.head_dim ** (-0.5))\n",
    "       att = torch.nn.functional.softmax(att, dim=-1)\n",
    "       #########################################################\n",
    "\n",
    "\n",
    "       # Weighted Value Computation\n",
    "       #########################################################\n",
    "       #  B x H x N x N @ B x H x N x Head Dimension\n",
    "       # -> B x H x N x Head Dimension\n",
    "       out = torch.matmul(att, v)\n",
    "       #########################################################\n",
    "\n",
    "\n",
    "       # Converting to Transformer Dimension\n",
    "       #########################################################\n",
    "       # B x N x (Heads * Head Dimension) -> B x N x (Attention Dimension)\n",
    "       out = rearrange(out, 'b n_h n h_dim -> b n (n_h h_dim)')\n",
    "       #  B x N x Dimension\n",
    "       out = self.output_proj(out)\n",
    "       ##########################################################\n",
    "\n",
    "\n",
    "       return out\n",
    "\n",
    "\n",
    "class TransformerLayer(nn.Module):\n",
    "\n",
    "\n",
    "   def __init__(self):\n",
    "       super().__init__()\n",
    "       self.att_norm = nn.LayerNorm(768, elementwise_affine = False, eps = 1E-6)\n",
    "       self.ff_norm = nn.LayerNorm(768, elementwise_affine = False, eps = 1E-6)\n",
    "       self.attn_block = Attention()\n",
    "       self.mlp_block = nn.Sequential( nn.Linear(768, 4 * 768), nn.GELU(approximate='tanh'), nn.Linear(4 * 768, 768))\n",
    "\n",
    "\n",
    "   def forward(self, x, condition):\n",
    "       attn_norm_output = self.att_norm(x)\n",
    "       out = x + self.attn_block(attn_norm_output)\n",
    "       mlp_norm_output = self.ff_norm(out)\n",
    "       out = out + self.mlp_block(mlp_norm_output)\n",
    "       return out"
   ]
  },
  {
   "cell_type": "markdown",
   "metadata": {},
   "source": [
    "# M5"
   ]
  },
  {
   "cell_type": "code",
   "execution_count": null,
   "metadata": {},
   "outputs": [],
   "source": [
    "import math\n",
    "import torch\n",
    "import torch.nn.functional as F\n",
    "\n",
    "def scaled_dot_product_attention(q, k, v, mask=None):\n",
    "    # Let q,k,v.size()=[3,2]\n",
    "    \n",
    "    d_k = q.size(-1)  # Scaling value.\n",
    "    \n",
    "    attn_logits = torch.matmul(q, k.transpose(-2, -1))  # [3, 2] x [3, 2]->[2, 3] = [3, First matmul step.\n",
    "\n",
    "    attn_logits = attn_logits / math.sqrt(d_k)  # Scaling step.\n",
    "    \n",
    "    if mask is not None:  # Optional masking step.\n",
    "        attn_logits = attn_logits.masked_fill(mask==0, -9e-15)  # Smaller the mask value better.\n",
    "    \n",
    "    attn_logits = F.softmax(attn_logits, dim=-1)  # Softmax step.\n",
    "    \n",
    "    result = torch.matmul(attn_logits, v)  # [3, 3] x [3, 2] = [3, 2]. Softmax step.\n",
    "    \n",
    "    return result\n",
    "\n",
    "if __name__ == \"__main__\":\n",
    "    q = torch.randn(3, 2)\n",
    "    k = torch.randn(3, 2)\n",
    "    v = torch.randn(3, 2)\n",
    "    \n",
    "    attention = scaled_dot_product_attention(q, k, v)\n",
    "    print(attention.size())"
   ]
  }
 ],
 "metadata": {
  "colab": {
   "collapsed_sections": [
    "_uSmEHjCn3lk",
    "uiaCxaGGUgQt",
    "F_hw5TyCUgQ1",
    "euyRXbaMUgQR",
    "Okjbyti8kfQs",
    "gERLhK-FUgQw",
    "8bTXEynYm5Na",
    "tYmRJctW8dSk",
    "q4EQy_Hvn86q"
   ],
   "provenance": []
  },
  "kernelspec": {
   "display_name": "Python 3",
   "name": "python3"
  },
  "language_info": {
   "name": "python"
  }
 },
 "nbformat": 4,
 "nbformat_minor": 0
}
